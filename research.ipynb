{
 "cells": [
  {
   "cell_type": "markdown",
   "source": [
    "# First Aproach\n",
    "\n",
    "I will try to design an abstract class for Join operations.\n",
    "I see that the main idea of the exercise is join input, vs output to get the payment on each range of time."
   ],
   "metadata": {
    "collapsed": false
   }
  },
  {
   "cell_type": "code",
   "execution_count": null,
   "outputs": [],
   "source": [],
   "metadata": {
    "collapsed": false
   }
  },
  {
   "cell_type": "code",
   "execution_count": 196,
   "outputs": [
    {
     "name": "stdout",
     "output_type": "stream",
     "text": [
      "RENE: 215\n",
      "ASTRID: 85\n"
     ]
    }
   ],
   "source": [
    "from datetime import datetime, timedelta\n",
    "from typing import Dict, List\n",
    "\n",
    "# Constants\n",
    "WEEK_DAYS = ['MO', 'TU', 'WE', 'TH', 'FR']\n",
    "WEEKENDS = ['SA', 'SU']\n",
    "\n",
    "\n",
    "def read_file_to_list(input_file: str) -> List:\n",
    "    with open(input_file, 'r') as file:\n",
    "        content = file.read()\n",
    "        #todo: validate file structure\n",
    "        rows_ = content.split('\\n')\n",
    "\n",
    "    return rows_\n",
    "\n",
    "\n",
    "def generate_dataset(content__input_list: List) -> Dict:\n",
    "    # CoordinatesType = List[Dict[str, Tuple[int,int]]]\n",
    "\n",
    "    DataSet = Dict[List[str], List[str]]\n",
    "    input_dataset: DataSet = {\n",
    "        'id': [],\n",
    "        'employee': [],\n",
    "        'day_type': [],\n",
    "        'day_of_week': [],\n",
    "        'start_at': [],\n",
    "        'end_at': [],\n",
    "        'hour': []\n",
    "    }\n",
    "\n",
    "    for row in content__input_list:\n",
    "\n",
    "        employee_name, data = row.split('=')\n",
    "\n",
    "        for day in data.split(','):\n",
    "            day_of_week = day[:2]\n",
    "            start_at = day[2:7]\n",
    "            end_at = day[8:]\n",
    "            start_time = datetime.strptime(f\"{start_at}:00\", \"%H:%M:%S\")\n",
    "            end_time = datetime.strptime(f\"{end_at}:00\", \"%H:%M:%S\")\n",
    "\n",
    "            hour_list = []\n",
    "            current_time = start_time\n",
    "\n",
    "            # Augment with start_at, to end_at, for tabular denormalized shape\n",
    "            while current_time < end_time:\n",
    "                hour_list.append(current_time)\n",
    "                current_time += timedelta(hours=1)\n",
    "\n",
    "            for hh in hour_list:\n",
    "                hour = int(hh.strftime('%H'))\n",
    "                day_type = 'week_days' if day_of_week in WEEK_DAYS else 'weekend_days'\n",
    "\n",
    "                # add the data to the dataset dictionary\n",
    "                input_dataset['employee'].append(employee_name)\n",
    "                input_dataset['day_of_week'].append(day_of_week)\n",
    "                input_dataset['day_type'].append(day_type)\n",
    "                input_dataset['start_at'].append(start_at)\n",
    "                input_dataset['end_at'].append(end_at)\n",
    "                input_dataset['hour'].append(hour)\n",
    "                input_dataset['id'].append(day_type + '-' + str(hour))\n",
    "\n",
    "    return input_dataset\n",
    "\n",
    "\n",
    "def generate_rules_dataset() -> Dict:\n",
    "    range_day = ['week_days'] * 24 + ['weekend_days'] * 24\n",
    "    hour = list(range(24)) * 2\n",
    "    id = [range_day[i] + '-' + str(hour[i]) for i in range(len(range_day))]\n",
    "    value_usd = [25] * 9 + [15] * 9 + [20] * 6 + [30] * 9 + [20] * 10 + [25] * 5\n",
    "\n",
    "    DataSet = Dict[str, List]\n",
    "    rules_dataset: DataSet = {\n",
    "        'id': id,\n",
    "        'range_day': range_day,\n",
    "        'hour': hour,\n",
    "        'value_usd': value_usd\n",
    "    }\n",
    "    return rules_dataset\n",
    "\n",
    "\n",
    "\n",
    "def join_datasets(input_dataset: Dict, rules_dataset: Dict) -> List:\n",
    "    data_resp = {'employee': [], 'value_usd': []}\n",
    "\n",
    "    for i in range(len(rules_dataset['id'])):\n",
    "        for j in range(len(input_dataset['id'])):\n",
    "            if rules_dataset['id'][i] == input_dataset['id'][j]:\n",
    "                employee = input_dataset['employee'][j]\n",
    "                value_usd = rules_dataset['value_usd'][i]\n",
    "\n",
    "                data_resp['employee'].append(employee)\n",
    "                data_resp['value_usd'].append(value_usd)\n",
    "    return data_resp\n",
    "\n",
    "\n",
    "def aggregate_result(joined_dataset: Dict) -> Dict:\n",
    "    result: Dict = {}\n",
    "    response: List = []\n",
    "    employees: List = joined_dataset['employee']\n",
    "\n",
    "    for i in range(len(employees)):\n",
    "        employee = joined_dataset['employee'][i]\n",
    "        value_usd = joined_dataset['value_usd'][i]\n",
    "\n",
    "        if employee in result:\n",
    "            result[employee] += value_usd\n",
    "        else:\n",
    "            result[employee] = value_usd\n",
    "\n",
    "    return result\n",
    "\n",
    "\n",
    "\n",
    "\n",
    "content_list = read_file_to_list('input.txt')\n",
    "\n",
    "input_ds = generate_dataset(content_list)\n",
    "rules_ds = generate_rules_dataset()\n",
    "\n",
    "joined_ds = join_datasets(input_ds, rules_ds)\n",
    "agg_result = aggregate_result(joined_ds)\n",
    "\n",
    "for employee, value_usd in agg_result.items():\n",
    "    print(f\"{employee}: {value_usd}\")\n",
    "\n",
    "\n"
   ],
   "metadata": {
    "collapsed": false
   }
  },
  {
   "cell_type": "code",
   "execution_count": 193,
   "outputs": [],
   "source": [],
   "metadata": {
    "collapsed": false
   }
  },
  {
   "cell_type": "code",
   "execution_count": 159,
   "outputs": [],
   "source": [],
   "metadata": {
    "collapsed": false
   }
  },
  {
   "cell_type": "code",
   "execution_count": 188,
   "outputs": [],
   "source": [],
   "metadata": {
    "collapsed": false
   }
  },
  {
   "cell_type": "code",
   "execution_count": 194,
   "outputs": [
    {
     "name": "stdout",
     "output_type": "stream",
     "text": [
      "RENE: 215\n",
      "ASTRID: 85\n"
     ]
    }
   ],
   "source": [],
   "metadata": {
    "collapsed": false
   }
  }
 ],
 "metadata": {
  "kernelspec": {
   "display_name": "Python 3",
   "language": "python",
   "name": "python3"
  },
  "language_info": {
   "codemirror_mode": {
    "name": "ipython",
    "version": 2
   },
   "file_extension": ".py",
   "mimetype": "text/x-python",
   "name": "python",
   "nbconvert_exporter": "python",
   "pygments_lexer": "ipython2",
   "version": "2.7.6"
  }
 },
 "nbformat": 4,
 "nbformat_minor": 0
}
