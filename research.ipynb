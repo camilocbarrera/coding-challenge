{
 "cells": [
  {
   "cell_type": "markdown",
   "source": [
    "# First Aproach\n",
    "\n",
    "I will try to design an abstract class for Join operations.\n",
    "I see that the main idea of the exercise is join input, vs output to get the payment on each range of time."
   ],
   "metadata": {
    "collapsed": false
   }
  },
  {
   "cell_type": "code",
   "execution_count": 425,
   "outputs": [],
   "source": [
    "WEEK_DAYS = ['MO', 'TU', 'WE', 'TH', 'FR']\n",
    "WEEKENDS = [ 'SA', 'SU']\n",
    "\n",
    "\n",
    "with open('input.txt', 'r') as file:\n",
    "    content = file.read()\n",
    "content\n",
    "\n",
    "\n",
    "rows_ = content.split('\\n')\n",
    "\n",
    "input_dataset = {'id': [], 'employee': [], 'day_type': [], 'day_of_week': [], 'start_at': [], 'end_at': [], 'hour': []}\n",
    "\n",
    "from datetime import datetime, timedelta\n",
    "\n",
    "for row in rows_:\n",
    "\n",
    "    name, data = row.split('=')\n",
    "\n",
    "    # split the days string by ',' character to get the details of each day separately\n",
    "    for day in data.split(','):\n",
    "        # extract the day of week, start time and end time from the day string\n",
    "        day_of_week = day[:2]\n",
    "        start_at = day[2:7]\n",
    "        end_at = day[8:]\n",
    "\n",
    "        start_time = datetime.strptime(f\"{start_at}:00\", \"%H:%M:%S\")\n",
    "        end_time = datetime.strptime(f\"{end_at}:00\", \"%H:%M:%S\")\n",
    "        hour_list = []\n",
    "        current_time = start_time\n",
    "        # Augment with start_at, to end_at, for tabular denormalized shape\n",
    "        while current_time < end_time:\n",
    "            hour_list.append(current_time)\n",
    "            current_time += timedelta(hours=1)\n",
    "\n",
    "        for hh in hour_list:\n",
    "            hour = int(hh.strftime('%H'))\n",
    "            day_type = 'week_days' if day_of_week in WEEK_DAYS else 'weekend_days'\n",
    "\n",
    "            # add the data to the dataset dictionary\n",
    "            input_dataset['employee'].append(name)\n",
    "            input_dataset['day_of_week'].append(day_of_week)\n",
    "            input_dataset['day_type'].append(day_type)\n",
    "            input_dataset['start_at'].append(start_at)\n",
    "            input_dataset['end_at'].append(end_at)\n",
    "            input_dataset['hour'].append(hour)\n",
    "            input_dataset['id'].append(day_type+'-'+str(hour))"
   ],
   "metadata": {
    "collapsed": false
   }
  },
  {
   "cell_type": "code",
   "execution_count": 424,
   "outputs": [
    {
     "name": "stdout",
     "output_type": "stream",
     "text": [
      "                 id employee      day_type day_of_week start_at end_at  hour\n",
      "0      week_days-10     RENE     week_days          MO    10:00  12:00    10\n",
      "1      week_days-11     RENE     week_days          MO    10:00  12:00    11\n",
      "2      week_days-10     RENE     week_days          TU    10:00  12:00    10\n",
      "3      week_days-11     RENE     week_days          TU    10:00  12:00    11\n",
      "4       week_days-1     RENE     week_days          TH    01:00  03:00     1\n",
      "5       week_days-2     RENE     week_days          TH    01:00  03:00     2\n",
      "6   weekend_days-14     RENE  weekend_days          SA    14:00  18:00    14\n",
      "7   weekend_days-15     RENE  weekend_days          SA    14:00  18:00    15\n",
      "8   weekend_days-16     RENE  weekend_days          SA    14:00  18:00    16\n",
      "9   weekend_days-17     RENE  weekend_days          SA    14:00  18:00    17\n",
      "10  weekend_days-20     RENE  weekend_days          SU    20:00  21:00    20\n",
      "11     week_days-10   ASTRID     week_days          MO    10:00  12:00    10\n",
      "12     week_days-11   ASTRID     week_days          MO    10:00  12:00    11\n",
      "13     week_days-12   ASTRID     week_days          TH    12:00  14:00    12\n",
      "14     week_days-13   ASTRID     week_days          TH    12:00  14:00    13\n",
      "15  weekend_days-20   ASTRID  weekend_days          SU    20:00  21:00    20\n"
     ]
    }
   ],
   "source": [
    "import pandas as pd\n",
    "\n",
    "x = pd.DataFrame(input_dataset)\n",
    "print(x)"
   ],
   "metadata": {
    "collapsed": false
   }
  },
  {
   "cell_type": "code",
   "execution_count": 423,
   "outputs": [
    {
     "name": "stdout",
     "output_type": "stream",
     "text": [
      "                 id     range_day  hour  value_usd\n",
      "0       week_days-0     week_days     0         25\n",
      "1       week_days-1     week_days     1         25\n",
      "2       week_days-2     week_days     2         25\n",
      "3       week_days-3     week_days     3         25\n",
      "4       week_days-4     week_days     4         25\n",
      "5       week_days-5     week_days     5         25\n",
      "6       week_days-6     week_days     6         25\n",
      "7       week_days-7     week_days     7         25\n",
      "8       week_days-8     week_days     8         25\n",
      "9       week_days-9     week_days     9         15\n",
      "10     week_days-10     week_days    10         15\n",
      "11     week_days-11     week_days    11         15\n",
      "12     week_days-12     week_days    12         15\n",
      "13     week_days-13     week_days    13         15\n",
      "14     week_days-14     week_days    14         15\n",
      "15     week_days-15     week_days    15         15\n",
      "16     week_days-16     week_days    16         15\n",
      "17     week_days-17     week_days    17         15\n",
      "18     week_days-18     week_days    18         20\n",
      "19     week_days-19     week_days    19         20\n",
      "20     week_days-20     week_days    20         20\n",
      "21     week_days-21     week_days    21         20\n",
      "22     week_days-22     week_days    22         20\n",
      "23     week_days-23     week_days    23         20\n",
      "24   weekend_days-0  weekend_days     0         30\n",
      "25   weekend_days-1  weekend_days     1         30\n",
      "26   weekend_days-2  weekend_days     2         30\n",
      "27   weekend_days-3  weekend_days     3         30\n",
      "28   weekend_days-4  weekend_days     4         30\n",
      "29   weekend_days-5  weekend_days     5         30\n",
      "30   weekend_days-6  weekend_days     6         30\n",
      "31   weekend_days-7  weekend_days     7         30\n",
      "32   weekend_days-8  weekend_days     8         30\n",
      "33   weekend_days-9  weekend_days     9         20\n",
      "34  weekend_days-10  weekend_days    10         20\n",
      "35  weekend_days-11  weekend_days    11         20\n",
      "36  weekend_days-12  weekend_days    12         20\n",
      "37  weekend_days-13  weekend_days    13         20\n",
      "38  weekend_days-14  weekend_days    14         20\n",
      "39  weekend_days-15  weekend_days    15         20\n",
      "40  weekend_days-16  weekend_days    16         20\n",
      "41  weekend_days-17  weekend_days    17         20\n",
      "42  weekend_days-18  weekend_days    18         20\n",
      "43  weekend_days-19  weekend_days    19         25\n",
      "44  weekend_days-20  weekend_days    20         25\n",
      "45  weekend_days-21  weekend_days    21         25\n",
      "46  weekend_days-22  weekend_days    22         25\n",
      "47  weekend_days-23  weekend_days    23         25\n"
     ]
    }
   ],
   "source": [
    "# generate dataset\n",
    "day_type = ['week_days'] * 24 + ['weekend_days'] * 24\n",
    "hour = list(range(24)) * 2\n",
    "value_usd = [25] * 9 + [15] * 9 + [20] * 6 + [30] * 9 + [20] * 10 + [25] * 5\n",
    "id = [day_type[i] + '-' + str(hour[i]) for i in range(len(day_type))]\n",
    "\n",
    "rules_dataset = {\n",
    "    'id': id,\n",
    "    'range_day': day_type,\n",
    "    'hour': hour,\n",
    "    'value_usd': value_usd\n",
    "}\n",
    "\n",
    "import pandas as pd\n",
    "df = pd.DataFrame(rules_dataset)\n",
    "print(df)\n"
   ],
   "metadata": {
    "collapsed": false
   }
  },
  {
   "cell_type": "code",
   "execution_count": 420,
   "outputs": [],
   "source": [
    "\n",
    "\n",
    "data_resp = {'employee': [], 'value_usd': []}\n",
    "\n",
    "for i in range(len(rules_dataset['id'])):\n",
    "    for j in range(len(input_dataset['id'])):\n",
    "        if rules_dataset['id'][i] == input_dataset['id'][j]:\n",
    "\n",
    "            employee = input_dataset['employee'][j]\n",
    "            value_usd = rules_dataset['value_usd'][i]\n",
    "\n",
    "            data_resp['employee'].append(employee)\n",
    "            data_resp['value_usd'].append(value_usd)\n",
    "\n",
    "\n",
    "\n",
    "\n"
   ],
   "metadata": {
    "collapsed": false
   }
  },
  {
   "cell_type": "code",
   "execution_count": 427,
   "outputs": [
    {
     "name": "stdout",
     "output_type": "stream",
     "text": [
      "RENE: 215\n",
      "ASTRID: 85\n"
     ]
    }
   ],
   "source": [
    "\n",
    "result = {}\n",
    "for i in range(len(data_resp[\"employee\"])):\n",
    "    employee = data_resp[\"employee\"][i]\n",
    "    value_usd = data_resp[\"value_usd\"][i]\n",
    "    if employee in result:\n",
    "        result[employee] += value_usd\n",
    "    else:\n",
    "        result[employee] = value_usd\n",
    "\n",
    "# Imprimir los resultados de la consulta\n",
    "for employee, value_usd in result.items():\n",
    "    print(f\"{employee}: {value_usd}\")\n"
   ],
   "metadata": {
    "collapsed": false
   }
  }
 ],
 "metadata": {
  "kernelspec": {
   "display_name": "Python 3",
   "language": "python",
   "name": "python3"
  },
  "language_info": {
   "codemirror_mode": {
    "name": "ipython",
    "version": 2
   },
   "file_extension": ".py",
   "mimetype": "text/x-python",
   "name": "python",
   "nbconvert_exporter": "python",
   "pygments_lexer": "ipython2",
   "version": "2.7.6"
  }
 },
 "nbformat": 4,
 "nbformat_minor": 0
}
